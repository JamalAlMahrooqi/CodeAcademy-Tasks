{
 "cells": [
  {
   "cell_type": "code",
   "execution_count": 249,
   "id": "030668ed",
   "metadata": {},
   "outputs": [],
   "source": [
    "import numpy as np\n",
    "import random\n",
    "import math\n",
    "from numpy.random import randn\n",
    "import matplotlib.pyplot as plt"
   ]
  },
  {
   "cell_type": "code",
   "execution_count": 49,
   "id": "d6030daa",
   "metadata": {},
   "outputs": [],
   "source": [
    "li=np.arange(0,10)\n",
    "li2=np.arange(15,20)\n",
    "li3=np.arange(10,15)"
   ]
  },
  {
   "cell_type": "code",
   "execution_count": 58,
   "id": "1e5a428d",
   "metadata": {},
   "outputs": [],
   "source": [
    "array1=li\n",
    "array2=li2\n",
    "array3=li3"
   ]
  },
  {
   "cell_type": "code",
   "execution_count": 62,
   "id": "831f39fc",
   "metadata": {},
   "outputs": [
    {
     "data": {
      "text/plain": [
       "array([0, 1, 2, 3, 4, 5, 6, 7, 8, 9])"
      ]
     },
     "execution_count": 62,
     "metadata": {},
     "output_type": "execute_result"
    }
   ],
   "source": [
    "array1"
   ]
  },
  {
   "cell_type": "code",
   "execution_count": 137,
   "id": "afc273e1",
   "metadata": {},
   "outputs": [],
   "source": [
    "arr1=np.array([[1,2,3,4],[8,9,10,11]])\n",
    "arr2x2=np.array([\n",
    "    [1,3],\n",
    "    [5,2]\n",
    "])\n",
    "arr2x2_2=np.array([\n",
    "    [6,4],\n",
    "    [8,1]\n",
    "])\n",
    "\n",
    "arr3x3=np.array([\n",
    "    [6,4,6],\n",
    "    [7,2,7],\n",
    "    [9,3,1]\n",
    "])\n",
    "arr3x3_1=np.array([\n",
    "    [4,4,1],\n",
    "    [4,1,7],\n",
    "    [3,7,8]\n",
    "])\n",
    "arr2x3=np.array([\n",
    "    [4,4,1],\n",
    "    [4,1,7]\n",
    "])\n",
    "arr3x2=np.array([\n",
    "    [4,4],\n",
    "    [4,1],\n",
    "    [3,7],\n",
    "])\n",
    "arr4x4=np.array([\n",
    "    [4,4,1,7],\n",
    "    [4,1,7,6],\n",
    "    [3,7,8,3],\n",
    "    [3,7,8,0]\n",
    "])"
   ]
  },
  {
   "cell_type": "code",
   "execution_count": 61,
   "id": "2ac1514a",
   "metadata": {},
   "outputs": [
    {
     "data": {
      "text/plain": [
       "array([[ 1,  2,  3,  4],\n",
       "       [ 8,  9, 10, 11]])"
      ]
     },
     "execution_count": 61,
     "metadata": {},
     "output_type": "execute_result"
    }
   ],
   "source": [
    "arr1"
   ]
  },
  {
   "cell_type": "code",
   "execution_count": 67,
   "id": "eed11682",
   "metadata": {},
   "outputs": [
    {
     "data": {
      "text/plain": [
       "array([[0., 0., 0.],\n",
       "       [0., 0., 0.],\n",
       "       [0., 0., 0.]])"
      ]
     },
     "execution_count": 67,
     "metadata": {},
     "output_type": "execute_result"
    }
   ],
   "source": [
    "np.zeros((3,3))"
   ]
  },
  {
   "cell_type": "code",
   "execution_count": 69,
   "id": "1b34bce8",
   "metadata": {},
   "outputs": [
    {
     "data": {
      "text/plain": [
       "array([[[1., 1., 1., 1.],\n",
       "        [1., 1., 1., 1.],\n",
       "        [1., 1., 1., 1.]],\n",
       "\n",
       "       [[1., 1., 1., 1.],\n",
       "        [1., 1., 1., 1.],\n",
       "        [1., 1., 1., 1.]]])"
      ]
     },
     "execution_count": 69,
     "metadata": {},
     "output_type": "execute_result"
    }
   ],
   "source": [
    "np.ones((2,3,4))"
   ]
  },
  {
   "cell_type": "code",
   "execution_count": 97,
   "id": "9ecdf727",
   "metadata": {},
   "outputs": [],
   "source": [
    "array_q6=np.arange(0,1,1/5,dtype=float)"
   ]
  },
  {
   "cell_type": "code",
   "execution_count": 98,
   "id": "3f90c639",
   "metadata": {},
   "outputs": [
    {
     "data": {
      "text/plain": [
       "array([0. , 0.2, 0.4, 0.6, 0.8])"
      ]
     },
     "execution_count": 98,
     "metadata": {},
     "output_type": "execute_result"
    }
   ],
   "source": [
    "array_q6"
   ]
  },
  {
   "cell_type": "code",
   "execution_count": 93,
   "id": "efa77f77",
   "metadata": {},
   "outputs": [],
   "source": [
    "array_q7=np.arange(0,10,10/5,dtype=int)"
   ]
  },
  {
   "cell_type": "code",
   "execution_count": 94,
   "id": "6260eb5a",
   "metadata": {},
   "outputs": [
    {
     "data": {
      "text/plain": [
       "array([0, 2, 4, 6, 8])"
      ]
     },
     "execution_count": 94,
     "metadata": {},
     "output_type": "execute_result"
    }
   ],
   "source": [
    "array_q7"
   ]
  },
  {
   "cell_type": "code",
   "execution_count": null,
   "id": "278552e1",
   "metadata": {},
   "outputs": [],
   "source": [
    "#ARITHMETIC"
   ]
  },
  {
   "cell_type": "code",
   "execution_count": 101,
   "id": "19efe444",
   "metadata": {},
   "outputs": [
    {
     "data": {
      "text/plain": [
       "array([[ 1,  2,  3,  4],\n",
       "       [ 8,  9, 10, 11]])"
      ]
     },
     "execution_count": 101,
     "metadata": {},
     "output_type": "execute_result"
    }
   ],
   "source": [
    "arr1"
   ]
  },
  {
   "cell_type": "code",
   "execution_count": 111,
   "id": "f69a7d11",
   "metadata": {},
   "outputs": [
    {
     "data": {
      "text/plain": [
       "array([[ 2,  6],\n",
       "       [10,  4]])"
      ]
     },
     "execution_count": 111,
     "metadata": {},
     "output_type": "execute_result"
    }
   ],
   "source": [
    "arr2x2 *2\n"
   ]
  },
  {
   "cell_type": "code",
   "execution_count": 103,
   "id": "d1e5f16a",
   "metadata": {},
   "outputs": [
    {
     "data": {
      "text/plain": [
       "array([[ 6,  7,  8,  9],\n",
       "       [13, 14, 15, 16]])"
      ]
     },
     "execution_count": 103,
     "metadata": {},
     "output_type": "execute_result"
    }
   ],
   "source": [
    "arr1 +5"
   ]
  },
  {
   "cell_type": "code",
   "execution_count": 106,
   "id": "b57207ed",
   "metadata": {},
   "outputs": [
    {
     "data": {
      "text/plain": [
       "array([[1.        , 1.41421356, 1.73205081, 2.        ],\n",
       "       [2.82842712, 3.        , 3.16227766, 3.31662479]])"
      ]
     },
     "execution_count": 106,
     "metadata": {},
     "output_type": "execute_result"
    }
   ],
   "source": [
    "np.sqrt(arr1)"
   ]
  },
  {
   "cell_type": "code",
   "execution_count": 107,
   "id": "cc852df6",
   "metadata": {},
   "outputs": [
    {
     "data": {
      "text/plain": [
       "array([[-9, -8, -7, -6],\n",
       "       [-2, -1,  0,  1]])"
      ]
     },
     "execution_count": 107,
     "metadata": {},
     "output_type": "execute_result"
    }
   ],
   "source": [
    "arr1 -10"
   ]
  },
  {
   "cell_type": "code",
   "execution_count": 117,
   "id": "9dd9178a",
   "metadata": {},
   "outputs": [
    {
     "data": {
      "text/plain": [
       "array([[30,  7],\n",
       "       [46, 22]])"
      ]
     },
     "execution_count": 117,
     "metadata": {},
     "output_type": "execute_result"
    }
   ],
   "source": [
    "np.matmul(arr2x2,arr2x2_2)"
   ]
  },
  {
   "cell_type": "code",
   "execution_count": 120,
   "id": "0ad17735",
   "metadata": {},
   "outputs": [
    {
     "data": {
      "text/plain": [
       "array([[58, 70, 82],\n",
       "       [57, 79, 77],\n",
       "       [47, 45, 31]])"
      ]
     },
     "execution_count": 120,
     "metadata": {},
     "output_type": "execute_result"
    }
   ],
   "source": [
    "np.dot(arr3x3,arr3x3_1)"
   ]
  },
  {
   "cell_type": "code",
   "execution_count": 125,
   "id": "c370bd66",
   "metadata": {},
   "outputs": [
    {
     "data": {
      "text/plain": [
       "array([[35, 27],\n",
       "       [41, 66]])"
      ]
     },
     "execution_count": 125,
     "metadata": {},
     "output_type": "execute_result"
    }
   ],
   "source": [
    "np.matmul(arr2x3,arr3x2)"
   ]
  },
  {
   "cell_type": "code",
   "execution_count": 126,
   "id": "efd14ded",
   "metadata": {},
   "outputs": [
    {
     "data": {
      "text/plain": [
       "array([[35, 27],\n",
       "       [41, 66]])"
      ]
     },
     "execution_count": 126,
     "metadata": {},
     "output_type": "execute_result"
    }
   ],
   "source": [
    "np.dot(arr2x3,arr3x2)"
   ]
  },
  {
   "cell_type": "code",
   "execution_count": null,
   "id": "68832dcf",
   "metadata": {},
   "outputs": [],
   "source": [
    "#INDEXING"
   ]
  },
  {
   "cell_type": "code",
   "execution_count": 131,
   "id": "bd1f8177",
   "metadata": {},
   "outputs": [
    {
     "data": {
      "text/plain": [
       "array([0, 1, 2, 3, 4, 5, 6, 7, 8, 9])"
      ]
     },
     "execution_count": 131,
     "metadata": {},
     "output_type": "execute_result"
    }
   ],
   "source": [
    "arr_1_9=np.arange(0,10)\n",
    "arr_1_9"
   ]
  },
  {
   "cell_type": "code",
   "execution_count": 166,
   "id": "cf3bdea1",
   "metadata": {},
   "outputs": [
    {
     "data": {
      "text/plain": [
       "array([0, 1, 2, 3, 4, 5, 6, 7, 8, 9])"
      ]
     },
     "execution_count": 166,
     "metadata": {},
     "output_type": "execute_result"
    }
   ],
   "source": [
    "arr_1_9[2]"
   ]
  },
  {
   "cell_type": "code",
   "execution_count": 184,
   "id": "1ab8fe3f",
   "metadata": {},
   "outputs": [],
   "source": [
    "array_rand_3x3=np.random.rand(3,3)*100"
   ]
  },
  {
   "cell_type": "code",
   "execution_count": 186,
   "id": "2452fb31",
   "metadata": {},
   "outputs": [
    {
     "data": {
      "text/plain": [
       "array([[23.64008808],\n",
       "       [29.62549894]])"
      ]
     },
     "execution_count": 186,
     "metadata": {},
     "output_type": "execute_result"
    }
   ],
   "source": [
    "array_rand_3x3[0:2,2:]"
   ]
  },
  {
   "cell_type": "code",
   "execution_count": 204,
   "id": "ad37c62e",
   "metadata": {},
   "outputs": [],
   "source": [
    "array_rand_4x4=np.random.rand(4,4)*100"
   ]
  },
  {
   "cell_type": "code",
   "execution_count": 205,
   "id": "4b43bfed",
   "metadata": {},
   "outputs": [
    {
     "data": {
      "text/plain": [
       "array([[52.50460256, 87.97858164],\n",
       "       [ 3.21302129, 62.45718839]])"
      ]
     },
     "execution_count": 205,
     "metadata": {},
     "output_type": "execute_result"
    }
   ],
   "source": [
    "array_rand_4x4[0:2,2:]"
   ]
  },
  {
   "cell_type": "code",
   "execution_count": 206,
   "id": "035dcb0a",
   "metadata": {},
   "outputs": [
    {
     "data": {
      "text/plain": [
       "array([0, 1, 2])"
      ]
     },
     "execution_count": 206,
     "metadata": {},
     "output_type": "execute_result"
    }
   ],
   "source": [
    "arr_1_9[:3]"
   ]
  },
  {
   "cell_type": "code",
   "execution_count": 207,
   "id": "3bf605bb",
   "metadata": {},
   "outputs": [
    {
     "data": {
      "text/plain": [
       "array([[30.66493014, 87.55146608, 23.64008808],\n",
       "       [64.79384711, 80.16808479, 29.62549894],\n",
       "       [70.85915552, 62.79433625, 82.90351488]])"
      ]
     },
     "execution_count": 207,
     "metadata": {},
     "output_type": "execute_result"
    }
   ],
   "source": [
    "array_rand_3x3"
   ]
  },
  {
   "cell_type": "code",
   "execution_count": 208,
   "id": "b0a88009",
   "metadata": {},
   "outputs": [
    {
     "data": {
      "text/plain": [
       "array([[30.66493014, 87.55146608],\n",
       "       [64.79384711, 80.16808479]])"
      ]
     },
     "execution_count": 208,
     "metadata": {},
     "output_type": "execute_result"
    }
   ],
   "source": [
    "array_rand_3x3[:2,:2]"
   ]
  },
  {
   "cell_type": "code",
   "execution_count": 209,
   "id": "7b755703",
   "metadata": {},
   "outputs": [],
   "source": [
    "array_1d=np.arange(0,9)"
   ]
  },
  {
   "cell_type": "code",
   "execution_count": 210,
   "id": "2dd2cd39",
   "metadata": {},
   "outputs": [
    {
     "data": {
      "text/plain": [
       "array([0, 1, 2, 3, 4, 5, 6, 7, 8])"
      ]
     },
     "execution_count": 210,
     "metadata": {},
     "output_type": "execute_result"
    }
   ],
   "source": [
    "array_1d"
   ]
  },
  {
   "cell_type": "code",
   "execution_count": 211,
   "id": "dc83beae",
   "metadata": {},
   "outputs": [
    {
     "data": {
      "text/plain": [
       "array([[0, 1, 2],\n",
       "       [3, 4, 5],\n",
       "       [6, 7, 8]])"
      ]
     },
     "execution_count": 211,
     "metadata": {},
     "output_type": "execute_result"
    }
   ],
   "source": [
    "array_1d.reshape(3,3)"
   ]
  },
  {
   "cell_type": "code",
   "execution_count": 218,
   "id": "01eb2d77",
   "metadata": {},
   "outputs": [],
   "source": [
    "array4x4=np.random.rand(4,4)*100"
   ]
  },
  {
   "cell_type": "code",
   "execution_count": 219,
   "id": "8c5af9d9",
   "metadata": {},
   "outputs": [
    {
     "data": {
      "text/plain": [
       "array([[69.68284521, 69.06691015, 43.12692615, 31.89844397],\n",
       "       [21.36798053,  9.68615805, 83.23539887, 26.98623074],\n",
       "       [68.63320837, 87.35831848, 33.12151717, 57.44639492],\n",
       "       [77.12415747, 92.2338841 , 28.07207604, 92.97664252]])"
      ]
     },
     "execution_count": 219,
     "metadata": {},
     "output_type": "execute_result"
    }
   ],
   "source": [
    "array4x4"
   ]
  },
  {
   "cell_type": "code",
   "execution_count": 224,
   "id": "562ea75a",
   "metadata": {},
   "outputs": [
    {
     "data": {
      "text/plain": [
       "array([[52.68330839, 89.59241304, 17.1500055 , 36.23424416, 30.56388264,\n",
       "        31.99445842, 99.83487135, 87.14215742,  7.28909158, 92.36739991,\n",
       "        95.87279635, 18.65329268, 22.72088991, 31.98102641, 60.5648012 ,\n",
       "        30.79926509]])"
      ]
     },
     "execution_count": 224,
     "metadata": {},
     "output_type": "execute_result"
    }
   ],
   "source": [
    "array2x2.reshape(1,-1)"
   ]
  },
  {
   "cell_type": "code",
   "execution_count": 229,
   "id": "a7da8d0b",
   "metadata": {},
   "outputs": [],
   "source": [
    "array_1=np.arange(0,4)\n",
    "array_2=np.arange(0,4)"
   ]
  },
  {
   "cell_type": "code",
   "execution_count": 230,
   "id": "b6a725c8",
   "metadata": {},
   "outputs": [
    {
     "data": {
      "text/plain": [
       "array([0, 1, 2, 3, 0, 1, 2, 3])"
      ]
     },
     "execution_count": 230,
     "metadata": {},
     "output_type": "execute_result"
    }
   ],
   "source": [
    "np.concatenate([array_1,array_2])"
   ]
  },
  {
   "cell_type": "code",
   "execution_count": 232,
   "id": "b835a6db",
   "metadata": {},
   "outputs": [],
   "source": [
    "array_3=np.random.rand(2,2)\n",
    "array_4=np.random.rand(2,3)"
   ]
  },
  {
   "cell_type": "code",
   "execution_count": 235,
   "id": "7fb280a5",
   "metadata": {},
   "outputs": [
    {
     "data": {
      "text/plain": [
       "array([[0.07418854, 0.97914541, 0.68380364, 0.26318731, 0.46797522],\n",
       "       [0.85741588, 0.27842362, 0.27700188, 0.32063863, 0.99966472]])"
      ]
     },
     "execution_count": 235,
     "metadata": {},
     "output_type": "execute_result"
    }
   ],
   "source": [
    "np.hstack((array_3,array_4))"
   ]
  },
  {
   "cell_type": "code",
   "execution_count": 237,
   "id": "de0c712e",
   "metadata": {},
   "outputs": [],
   "source": [
    "array4x4_1=np.random.rand(4,4)*100"
   ]
  },
  {
   "cell_type": "code",
   "execution_count": 238,
   "id": "583a7760",
   "metadata": {},
   "outputs": [],
   "source": [
    "x,y=np.hsplit(array4x4_1,[2])"
   ]
  },
  {
   "cell_type": "code",
   "execution_count": 239,
   "id": "d6dc54da",
   "metadata": {},
   "outputs": [
    {
     "data": {
      "text/plain": [
       "array([[95.77643925, 93.51145201],\n",
       "       [22.71669436, 43.81777698],\n",
       "       [37.61396557, 39.40649578],\n",
       "       [26.27422112, 86.05620153]])"
      ]
     },
     "execution_count": 239,
     "metadata": {},
     "output_type": "execute_result"
    }
   ],
   "source": [
    "x"
   ]
  },
  {
   "cell_type": "code",
   "execution_count": 240,
   "id": "c671288a",
   "metadata": {},
   "outputs": [
    {
     "data": {
      "text/plain": [
       "array([[51.19947475, 99.62756943],\n",
       "       [77.02399172, 50.06244025],\n",
       "       [82.5583336 , 64.5819604 ],\n",
       "       [91.12939247, 43.23898796]])"
      ]
     },
     "execution_count": 240,
     "metadata": {},
     "output_type": "execute_result"
    }
   ],
   "source": [
    "y"
   ]
  },
  {
   "cell_type": "code",
   "execution_count": 241,
   "id": "bad2bd81",
   "metadata": {},
   "outputs": [],
   "source": [
    "x2,y2=np.vsplit(array4x4_1,[2])"
   ]
  },
  {
   "cell_type": "code",
   "execution_count": 242,
   "id": "637f2c6d",
   "metadata": {},
   "outputs": [
    {
     "data": {
      "text/plain": [
       "array([[95.77643925, 93.51145201, 51.19947475, 99.62756943],\n",
       "       [22.71669436, 43.81777698, 77.02399172, 50.06244025]])"
      ]
     },
     "execution_count": 242,
     "metadata": {},
     "output_type": "execute_result"
    }
   ],
   "source": [
    "x2"
   ]
  },
  {
   "cell_type": "code",
   "execution_count": 243,
   "id": "e165efde",
   "metadata": {},
   "outputs": [
    {
     "data": {
      "text/plain": [
       "array([[37.61396557, 39.40649578, 82.5583336 , 64.5819604 ],\n",
       "       [26.27422112, 86.05620153, 91.12939247, 43.23898796]])"
      ]
     },
     "execution_count": 243,
     "metadata": {},
     "output_type": "execute_result"
    }
   ],
   "source": [
    "y2"
   ]
  },
  {
   "cell_type": "code",
   "execution_count": 259,
   "id": "020d8d1d",
   "metadata": {},
   "outputs": [],
   "source": [
    "arra=3+0.4*randn(10,10)"
   ]
  },
  {
   "cell_type": "code",
   "execution_count": 260,
   "id": "a9a60e72",
   "metadata": {},
   "outputs": [
    {
     "data": {
      "text/plain": [
       "array([[2.48123494, 2.58334347, 2.72710196, 3.11375781, 3.07824371,\n",
       "        2.54354827, 3.37682472, 2.94302735, 2.87022134, 3.3753586 ],\n",
       "       [3.00156921, 2.79602556, 2.8682035 , 3.1098891 , 3.19769002,\n",
       "        3.18232034, 2.82581138, 3.39481981, 3.20123926, 2.51294956],\n",
       "       [3.00129305, 2.92036446, 2.77139042, 3.28962989, 3.01249073,\n",
       "        3.5650947 , 2.64956414, 3.34522405, 3.14426157, 2.47190503],\n",
       "       [2.8930572 , 3.17499542, 3.12469521, 3.20080679, 3.2414553 ,\n",
       "        2.88432888, 2.50643855, 3.30002054, 2.68264582, 2.9662354 ],\n",
       "       [2.82056672, 2.71880362, 2.7595496 , 2.86097188, 3.43738263,\n",
       "        2.75519746, 2.69034829, 2.27408075, 3.15069398, 2.21656045],\n",
       "       [2.81423468, 2.65125278, 3.10048099, 3.20268102, 2.7876449 ,\n",
       "        3.31408091, 3.1723493 , 3.01974683, 3.23841852, 3.14853288],\n",
       "       [2.27187899, 2.53262256, 2.36378089, 3.04316434, 2.68438111,\n",
       "        2.9180968 , 3.1047905 , 3.14622748, 3.12764472, 3.36712997],\n",
       "       [3.11130134, 2.98693707, 2.97701939, 3.58221706, 3.24625772,\n",
       "        2.90226501, 3.25005124, 3.31131171, 2.35229015, 3.37691421],\n",
       "       [3.24812681, 2.89561422, 3.82559004, 3.34675319, 2.91900857,\n",
       "        2.92549972, 3.19427021, 2.73297768, 3.16818677, 2.34454331],\n",
       "       [3.53500096, 2.92001904, 2.44240219, 2.86482963, 2.92653388,\n",
       "        3.40874124, 3.41675409, 3.10653157, 3.22708115, 3.22057821]])"
      ]
     },
     "execution_count": 260,
     "metadata": {},
     "output_type": "execute_result"
    }
   ],
   "source": [
    "arra"
   ]
  },
  {
   "cell_type": "code",
   "execution_count": 261,
   "id": "f15a117e",
   "metadata": {},
   "outputs": [
    {
     "data": {
      "text/plain": [
       "<function matplotlib.pyplot.show(close=None, block=None)>"
      ]
     },
     "execution_count": 261,
     "metadata": {},
     "output_type": "execute_result"
    },
    {
     "data": {
      "image/png": "[encoded data removed]",
      "text/plain": [
       "<Figure size 640x480 with 1 Axes>"
      ]
     },
     "metadata": {},
     "output_type": "display_data"
    }
   ],
   "source": [
    "plt.hist(arra, edgecolor='black')\n",
    "plt.show"
   ]
  },
  {
   "cell_type": "code",
   "execution_count": 263,
   "id": "9a0e2f60",
   "metadata": {},
   "outputs": [
    {
     "data": {
      "text/plain": [
       "array([[2.48123494, 2.54354827, 2.58334347, 2.72710196, 2.87022134,\n",
       "        2.94302735, 3.07824371, 3.11375781, 3.3753586 , 3.37682472],\n",
       "       [2.51294956, 2.79602556, 2.82581138, 2.8682035 , 3.00156921,\n",
       "        3.1098891 , 3.18232034, 3.19769002, 3.20123926, 3.39481981],\n",
       "       [2.47190503, 2.64956414, 2.77139042, 2.92036446, 3.00129305,\n",
       "        3.01249073, 3.14426157, 3.28962989, 3.34522405, 3.5650947 ],\n",
       "       [2.50643855, 2.68264582, 2.88432888, 2.8930572 , 2.9662354 ,\n",
       "        3.12469521, 3.17499542, 3.20080679, 3.2414553 , 3.30002054],\n",
       "       [2.21656045, 2.27408075, 2.69034829, 2.71880362, 2.75519746,\n",
       "        2.7595496 , 2.82056672, 2.86097188, 3.15069398, 3.43738263],\n",
       "       [2.65125278, 2.7876449 , 2.81423468, 3.01974683, 3.10048099,\n",
       "        3.14853288, 3.1723493 , 3.20268102, 3.23841852, 3.31408091],\n",
       "       [2.27187899, 2.36378089, 2.53262256, 2.68438111, 2.9180968 ,\n",
       "        3.04316434, 3.1047905 , 3.12764472, 3.14622748, 3.36712997],\n",
       "       [2.35229015, 2.90226501, 2.97701939, 2.98693707, 3.11130134,\n",
       "        3.24625772, 3.25005124, 3.31131171, 3.37691421, 3.58221706],\n",
       "       [2.34454331, 2.73297768, 2.89561422, 2.91900857, 2.92549972,\n",
       "        3.16818677, 3.19427021, 3.24812681, 3.34675319, 3.82559004],\n",
       "       [2.44240219, 2.86482963, 2.92001904, 2.92653388, 3.10653157,\n",
       "        3.22057821, 3.22708115, 3.40874124, 3.41675409, 3.53500096]])"
      ]
     },
     "execution_count": 263,
     "metadata": {},
     "output_type": "execute_result"
    }
   ],
   "source": []
  },
  {
   "cell_type": "code",
   "execution_count": 266,
   "id": "8e8e28fc",
   "metadata": {},
   "outputs": [],
   "source": [
    "array_tosort=np.random.rand(1,5)"
   ]
  },
  {
   "cell_type": "code",
   "execution_count": 267,
   "id": "dc300b54",
   "metadata": {},
   "outputs": [
    {
     "data": {
      "text/plain": [
       "array([[0.59465171, 0.09089442, 0.87206094, 0.02091742, 0.39559882]])"
      ]
     },
     "execution_count": 267,
     "metadata": {},
     "output_type": "execute_result"
    }
   ],
   "source": [
    "array_tosort\n"
   ]
  },
  {
   "cell_type": "code",
   "execution_count": 268,
   "id": "8bab66c2",
   "metadata": {},
   "outputs": [
    {
     "data": {
      "text/plain": [
       "array([[0.02091742, 0.09089442, 0.39559882, 0.59465171, 0.87206094]])"
      ]
     },
     "execution_count": 268,
     "metadata": {},
     "output_type": "execute_result"
    }
   ],
   "source": [
    "np.sort(array_tosort)"
   ]
  },
  {
   "cell_type": "code",
   "execution_count": 272,
   "id": "9d1e6062",
   "metadata": {},
   "outputs": [
    {
     "data": {
      "text/plain": [
       "array([[0.87206094, 0.59465171, 0.39559882, 0.09089442, 0.02091742]])"
      ]
     },
     "execution_count": 272,
     "metadata": {},
     "output_type": "execute_result"
    }
   ],
   "source": [
    "-np.sort(-array_tosort)"
   ]
  },
  {
   "cell_type": "code",
   "execution_count": 277,
   "id": "3e4bacfe",
   "metadata": {},
   "outputs": [],
   "source": [
    "countries = np.array(['France', 'Germany', 'USA','Russia','USA','Mexico','Germany'])\n"
   ]
  },
  {
   "cell_type": "code",
   "execution_count": 278,
   "id": "6fdfe9ab",
   "metadata": {},
   "outputs": [
    {
     "data": {
      "text/plain": [
       "array(['France', 'Germany', 'Mexico', 'Russia', 'USA'], dtype='<U7')"
      ]
     },
     "execution_count": 278,
     "metadata": {},
     "output_type": "execute_result"
    }
   ],
   "source": [
    "np.unique(countries)"
   ]
  },
  {
   "cell_type": "code",
   "execution_count": 280,
   "id": "61e3c5e2",
   "metadata": {},
   "outputs": [
    {
     "data": {
      "text/plain": [
       "array([ True, False, False])"
      ]
     },
     "execution_count": 280,
     "metadata": {},
     "output_type": "execute_result"
    }
   ],
   "source": [
    "np.in1d(['France','Oman','Sweden'],countries)"
   ]
  },
  {
   "cell_type": "code",
   "execution_count": null,
   "id": "7ecb418a",
   "metadata": {},
   "outputs": [],
   "source": []
  }
 ],
 "metadata": {
  "kernelspec": {
   "display_name": "Python 3 (ipykernel)",
   "language": "python",
   "name": "python3"
  },
  "language_info": {
   "codemirror_mode": {
    "name": "ipython",
    "version": 3
   },
   "file_extension": ".py",
   "mimetype": "text/x-python",
   "name": "python",
   "nbconvert_exporter": "python",
   "pygments_lexer": "ipython3",
   "version": "3.9.13"
  }
 },
 "nbformat": 4,
 "nbformat_minor": 5
}
