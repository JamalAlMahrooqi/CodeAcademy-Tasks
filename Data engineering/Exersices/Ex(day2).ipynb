{
 "cells": [
  {
   "cell_type": "code",
   "execution_count": 89,
   "id": "e916973e",
   "metadata": {},
   "outputs": [],
   "source": [
    "import numpy as np\n",
    "import pandas as pd\n",
    "from pandas import Series\n",
    "from pandas import DataFrame\n",
    "import random"
   ]
  },
  {
   "cell_type": "code",
   "execution_count": 90,
   "id": "53cfc13e",
   "metadata": {},
   "outputs": [
    {
     "data": {
      "text/plain": [
       "0    9\n",
       "1    8\n",
       "2    7\n",
       "3    6\n",
       "4    5\n",
       "dtype: int64"
      ]
     },
     "execution_count": 90,
     "metadata": {},
     "output_type": "execute_result"
    }
   ],
   "source": [
    "series1= Series([9,8,7,6,5])\n",
    "series1"
   ]
  },
  {
   "cell_type": "code",
   "execution_count": 91,
   "id": "445d82b0",
   "metadata": {},
   "outputs": [
    {
     "data": {
      "text/plain": [
       "array([9, 8, 7, 6, 5], dtype=int64)"
      ]
     },
     "execution_count": 91,
     "metadata": {},
     "output_type": "execute_result"
    }
   ],
   "source": [
    "series1.values"
   ]
  },
  {
   "cell_type": "code",
   "execution_count": 92,
   "id": "51f2b55d",
   "metadata": {},
   "outputs": [
    {
     "data": {
      "text/plain": [
       "RangeIndex(start=0, stop=5, step=1)"
      ]
     },
     "execution_count": 92,
     "metadata": {},
     "output_type": "execute_result"
    }
   ],
   "source": [
    "series1.index"
   ]
  },
  {
   "cell_type": "code",
   "execution_count": 93,
   "id": "6e6b60e2",
   "metadata": {},
   "outputs": [],
   "source": [
    "Country_pop=Series([1439323776,1380004385,331002651,273523615,220892340],\n",
    "            index=['China','India','United States','Indonesia','Pakistan'] )"
   ]
  },
  {
   "cell_type": "code",
   "execution_count": 94,
   "id": "93b63779",
   "metadata": {},
   "outputs": [
    {
     "data": {
      "text/plain": [
       "China            1439323776\n",
       "India            1380004385\n",
       "United States     331002651\n",
       "Indonesia         273523615\n",
       "Pakistan          220892340\n",
       "dtype: int64"
      ]
     },
     "execution_count": 94,
     "metadata": {},
     "output_type": "execute_result"
    }
   ],
   "source": [
    "Country_pop"
   ]
  },
  {
   "cell_type": "code",
   "execution_count": 95,
   "id": "6d3df6c3",
   "metadata": {},
   "outputs": [
    {
     "data": {
      "text/plain": [
       "United States    331002651\n",
       "Indonesia        273523615\n",
       "Pakistan         220892340\n",
       "dtype: int64"
      ]
     },
     "execution_count": 95,
     "metadata": {},
     "output_type": "execute_result"
    }
   ],
   "source": [
    "Country_pop[Country_pop < 1000000000]"
   ]
  },
  {
   "cell_type": "code",
   "execution_count": 102,
   "id": "322e9098",
   "metadata": {},
   "outputs": [
    {
     "data": {
      "text/plain": [
       "{'China': 1439323776,\n",
       " 'India': 1380004385,\n",
       " 'United States': 331002651,\n",
       " 'Indonesia': 273523615,\n",
       " 'Pakistan': 220892340}"
      ]
     },
     "execution_count": 102,
     "metadata": {},
     "output_type": "execute_result"
    }
   ],
   "source": [
    "Country_pop_dic=Country_pop.to_dict()\n",
    "Country_pop_dic"
   ]
  },
  {
   "cell_type": "code",
   "execution_count": 103,
   "id": "846d5b85",
   "metadata": {},
   "outputs": [
    {
     "data": {
      "text/plain": [
       "China            1439323776\n",
       "India            1380004385\n",
       "United States     331002651\n",
       "Indonesia         273523615\n",
       "Pakistan          220892340\n",
       "dtype: int64"
      ]
     },
     "execution_count": 103,
     "metadata": {},
     "output_type": "execute_result"
    }
   ],
   "source": [
    "Country_pop"
   ]
  },
  {
   "cell_type": "code",
   "execution_count": 104,
   "id": "2547e2e2",
   "metadata": {},
   "outputs": [],
   "source": [
    "Country=['China','India','United States','Indoesia','Pakistan','Brazil','Nigeria']"
   ]
  },
  {
   "cell_type": "code",
   "execution_count": 108,
   "id": "8c6b4f8f",
   "metadata": {},
   "outputs": [],
   "source": [
    "series2=Series(Country_pop_dic,index=Country)"
   ]
  },
  {
   "cell_type": "code",
   "execution_count": 109,
   "id": "91bb90be",
   "metadata": {},
   "outputs": [
    {
     "data": {
      "text/plain": [
       "China            1.439324e+09\n",
       "India            1.380004e+09\n",
       "United States    3.310027e+08\n",
       "Indoesia                  NaN\n",
       "Pakistan         2.208923e+08\n",
       "Brazil                    NaN\n",
       "Nigeria                   NaN\n",
       "dtype: float64"
      ]
     },
     "execution_count": 109,
     "metadata": {},
     "output_type": "execute_result"
    }
   ],
   "source": [
    "series2"
   ]
  },
  {
   "cell_type": "code",
   "execution_count": 111,
   "id": "c1c428f2",
   "metadata": {},
   "outputs": [
    {
     "data": {
      "text/plain": [
       "China             True\n",
       "India             True\n",
       "United States     True\n",
       "Indoesia         False\n",
       "Pakistan          True\n",
       "Brazil           False\n",
       "Nigeria          False\n",
       "dtype: bool"
      ]
     },
     "execution_count": 111,
     "metadata": {},
     "output_type": "execute_result"
    }
   ],
   "source": [
    "pd.notnull(series2)"
   ]
  },
  {
   "cell_type": "code",
   "execution_count": 112,
   "id": "efcb34a2",
   "metadata": {},
   "outputs": [],
   "source": [
    "series2.name=\"Countries Population\""
   ]
  },
  {
   "cell_type": "code",
   "execution_count": 113,
   "id": "68edf7ec",
   "metadata": {},
   "outputs": [
    {
     "data": {
      "text/plain": [
       "China            1.439324e+09\n",
       "India            1.380004e+09\n",
       "United States    3.310027e+08\n",
       "Indoesia                  NaN\n",
       "Pakistan         2.208923e+08\n",
       "Brazil                    NaN\n",
       "Nigeria                   NaN\n",
       "Name: Countries Population, dtype: float64"
      ]
     },
     "execution_count": 113,
     "metadata": {},
     "output_type": "execute_result"
    }
   ],
   "source": [
    "series2"
   ]
  },
  {
   "cell_type": "code",
   "execution_count": 119,
   "id": "0e56109f",
   "metadata": {},
   "outputs": [],
   "source": [
    "#DataFrames"
   ]
  },
  {
   "cell_type": "code",
   "execution_count": 121,
   "id": "e40276d2",
   "metadata": {
    "scrolled": true
   },
   "outputs": [],
   "source": [
    "df=pd.read_csv('world_happiness_2015.csv')"
   ]
  },
  {
   "cell_type": "code",
   "execution_count": 123,
   "id": "f664664d",
   "metadata": {},
   "outputs": [
    {
     "data": {
      "text/plain": [
       "Index(['Country', 'Region', 'Happiness Rank', 'Happiness Score',\n",
       "       'Standard Error', 'Economy (GDP per Capita)', 'Family',\n",
       "       'Health (Life Expectancy)', 'Freedom', 'Trust (Government Corruption)',\n",
       "       'Generosity', 'Dystopia Residual'],\n",
       "      dtype='object')"
      ]
     },
     "execution_count": 123,
     "metadata": {},
     "output_type": "execute_result"
    }
   ],
   "source": [
    "df.columns"
   ]
  },
  {
   "cell_type": "code",
   "execution_count": 124,
   "id": "61dc1f4c",
   "metadata": {
    "scrolled": true
   },
   "outputs": [
    {
     "data": {
      "text/plain": [
       "<bound method NDFrame.head of          Country                           Region  ...  Generosity  Dystopia Residual\n",
       "0    Switzerland                   Western Europe  ...     0.29678            2.51738\n",
       "1        Iceland                   Western Europe  ...     0.43630            2.70201\n",
       "2        Denmark                   Western Europe  ...     0.34139            2.49204\n",
       "3         Norway                   Western Europe  ...     0.34699            2.46531\n",
       "4         Canada                    North America  ...     0.45811            2.45176\n",
       "..           ...                              ...  ...         ...                ...\n",
       "153       Rwanda               Sub-Saharan Africa  ...     0.22628            0.67042\n",
       "154        Benin               Sub-Saharan Africa  ...     0.18260            1.63328\n",
       "155        Syria  Middle East and Northern Africa  ...     0.47179            0.32858\n",
       "156      Burundi               Sub-Saharan Africa  ...     0.19727            1.83302\n",
       "157         Togo               Sub-Saharan Africa  ...     0.16681            1.56726\n",
       "\n",
       "[158 rows x 12 columns]>"
      ]
     },
     "execution_count": 124,
     "metadata": {},
     "output_type": "execute_result"
    }
   ],
   "source": [
    "df.head"
   ]
  },
  {
   "cell_type": "code",
   "execution_count": 127,
   "id": "e1a9a907",
   "metadata": {},
   "outputs": [],
   "source": [
    "alt_df=DataFrame(df,columns=[\"Happiness Rank\",\"Country\",\"Region\",\"Happiness Score\",\"Economy (GDP per Capita)\"])"
   ]
  },
  {
   "cell_type": "code",
   "execution_count": 128,
   "id": "120b8c17",
   "metadata": {},
   "outputs": [
    {
     "data": {
      "text/html": [
       "<div>\n",
       "<style scoped>\n",
       "    .dataframe tbody tr th:only-of-type {\n",
       "        vertical-align: middle;\n",
       "    }\n",
       "\n",
       "    .dataframe tbody tr th {\n",
       "        vertical-align: top;\n",
       "    }\n",
       "\n",
       "    .dataframe thead th {\n",
       "        text-align: right;\n",
       "    }\n",
       "</style>\n",
       "<table border=\"1\" class=\"dataframe\">\n",
       "  <thead>\n",
       "    <tr style=\"text-align: right;\">\n",
       "      <th></th>\n",
       "      <th>Happiness Rank</th>\n",
       "      <th>Country</th>\n",
       "      <th>Region</th>\n",
       "      <th>Happiness Score</th>\n",
       "      <th>Economy (GDP per Capita)</th>\n",
       "    </tr>\n",
       "  </thead>\n",
       "  <tbody>\n",
       "    <tr>\n",
       "      <th>0</th>\n",
       "      <td>1</td>\n",
       "      <td>Switzerland</td>\n",
       "      <td>Western Europe</td>\n",
       "      <td>7.587</td>\n",
       "      <td>1.39651</td>\n",
       "    </tr>\n",
       "    <tr>\n",
       "      <th>1</th>\n",
       "      <td>2</td>\n",
       "      <td>Iceland</td>\n",
       "      <td>Western Europe</td>\n",
       "      <td>7.561</td>\n",
       "      <td>1.30232</td>\n",
       "    </tr>\n",
       "    <tr>\n",
       "      <th>2</th>\n",
       "      <td>3</td>\n",
       "      <td>Denmark</td>\n",
       "      <td>Western Europe</td>\n",
       "      <td>7.527</td>\n",
       "      <td>1.32548</td>\n",
       "    </tr>\n",
       "    <tr>\n",
       "      <th>3</th>\n",
       "      <td>4</td>\n",
       "      <td>Norway</td>\n",
       "      <td>Western Europe</td>\n",
       "      <td>7.522</td>\n",
       "      <td>1.45900</td>\n",
       "    </tr>\n",
       "    <tr>\n",
       "      <th>4</th>\n",
       "      <td>5</td>\n",
       "      <td>Canada</td>\n",
       "      <td>North America</td>\n",
       "      <td>7.427</td>\n",
       "      <td>1.32629</td>\n",
       "    </tr>\n",
       "    <tr>\n",
       "      <th>...</th>\n",
       "      <td>...</td>\n",
       "      <td>...</td>\n",
       "      <td>...</td>\n",
       "      <td>...</td>\n",
       "      <td>...</td>\n",
       "    </tr>\n",
       "    <tr>\n",
       "      <th>153</th>\n",
       "      <td>154</td>\n",
       "      <td>Rwanda</td>\n",
       "      <td>Sub-Saharan Africa</td>\n",
       "      <td>3.465</td>\n",
       "      <td>0.22208</td>\n",
       "    </tr>\n",
       "    <tr>\n",
       "      <th>154</th>\n",
       "      <td>155</td>\n",
       "      <td>Benin</td>\n",
       "      <td>Sub-Saharan Africa</td>\n",
       "      <td>3.340</td>\n",
       "      <td>0.28665</td>\n",
       "    </tr>\n",
       "    <tr>\n",
       "      <th>155</th>\n",
       "      <td>156</td>\n",
       "      <td>Syria</td>\n",
       "      <td>Middle East and Northern Africa</td>\n",
       "      <td>3.006</td>\n",
       "      <td>0.66320</td>\n",
       "    </tr>\n",
       "    <tr>\n",
       "      <th>156</th>\n",
       "      <td>157</td>\n",
       "      <td>Burundi</td>\n",
       "      <td>Sub-Saharan Africa</td>\n",
       "      <td>2.905</td>\n",
       "      <td>0.01530</td>\n",
       "    </tr>\n",
       "    <tr>\n",
       "      <th>157</th>\n",
       "      <td>158</td>\n",
       "      <td>Togo</td>\n",
       "      <td>Sub-Saharan Africa</td>\n",
       "      <td>2.839</td>\n",
       "      <td>0.20868</td>\n",
       "    </tr>\n",
       "  </tbody>\n",
       "</table>\n",
       "<p>158 rows × 5 columns</p>\n",
       "</div>"
      ],
      "text/plain": [
       "     Happiness Rank      Country                           Region  Happiness Score  Economy (GDP per Capita)\n",
       "0                 1  Switzerland                   Western Europe            7.587                   1.39651\n",
       "1                 2      Iceland                   Western Europe            7.561                   1.30232\n",
       "2                 3      Denmark                   Western Europe            7.527                   1.32548\n",
       "3                 4       Norway                   Western Europe            7.522                   1.45900\n",
       "4                 5       Canada                    North America            7.427                   1.32629\n",
       "..              ...          ...                              ...              ...                       ...\n",
       "153             154       Rwanda               Sub-Saharan Africa            3.465                   0.22208\n",
       "154             155        Benin               Sub-Saharan Africa            3.340                   0.28665\n",
       "155             156        Syria  Middle East and Northern Africa            3.006                   0.66320\n",
       "156             157      Burundi               Sub-Saharan Africa            2.905                   0.01530\n",
       "157             158         Togo               Sub-Saharan Africa            2.839                   0.20868\n",
       "\n",
       "[158 rows x 5 columns]"
      ]
     },
     "execution_count": 128,
     "metadata": {},
     "output_type": "execute_result"
    }
   ],
   "source": [
    "alt_df"
   ]
  },
  {
   "cell_type": "code",
   "execution_count": 136,
   "id": "b2687424",
   "metadata": {},
   "outputs": [],
   "source": [
    "rows_oman = df.loc[df[\"Country\"] == \"Oman\"]"
   ]
  },
  {
   "cell_type": "code",
   "execution_count": 137,
   "id": "fa7ec094",
   "metadata": {
    "scrolled": true
   },
   "outputs": [
    {
     "data": {
      "text/html": [
       "<div>\n",
       "<style scoped>\n",
       "    .dataframe tbody tr th:only-of-type {\n",
       "        vertical-align: middle;\n",
       "    }\n",
       "\n",
       "    .dataframe tbody tr th {\n",
       "        vertical-align: top;\n",
       "    }\n",
       "\n",
       "    .dataframe thead th {\n",
       "        text-align: right;\n",
       "    }\n",
       "</style>\n",
       "<table border=\"1\" class=\"dataframe\">\n",
       "  <thead>\n",
       "    <tr style=\"text-align: right;\">\n",
       "      <th></th>\n",
       "      <th>Country</th>\n",
       "      <th>Region</th>\n",
       "      <th>Happiness Rank</th>\n",
       "      <th>Happiness Score</th>\n",
       "      <th>Standard Error</th>\n",
       "      <th>Economy (GDP per Capita)</th>\n",
       "      <th>Family</th>\n",
       "      <th>Health (Life Expectancy)</th>\n",
       "      <th>Freedom</th>\n",
       "      <th>Trust (Government Corruption)</th>\n",
       "      <th>Generosity</th>\n",
       "      <th>Dystopia Residual</th>\n",
       "    </tr>\n",
       "  </thead>\n",
       "  <tbody>\n",
       "    <tr>\n",
       "      <th>21</th>\n",
       "      <td>Oman</td>\n",
       "      <td>Middle East and Northern Africa</td>\n",
       "      <td>22</td>\n",
       "      <td>6.853</td>\n",
       "      <td>0.05335</td>\n",
       "      <td>1.36011</td>\n",
       "      <td>1.08182</td>\n",
       "      <td>0.76276</td>\n",
       "      <td>0.63274</td>\n",
       "      <td>0.32524</td>\n",
       "      <td>0.21542</td>\n",
       "      <td>2.47489</td>\n",
       "    </tr>\n",
       "  </tbody>\n",
       "</table>\n",
       "</div>"
      ],
      "text/plain": [
       "   Country                           Region  ...  Generosity  Dystopia Residual\n",
       "21    Oman  Middle East and Northern Africa  ...     0.21542            2.47489\n",
       "\n",
       "[1 rows x 12 columns]"
      ]
     },
     "execution_count": 137,
     "metadata": {},
     "output_type": "execute_result"
    }
   ],
   "source": [
    "rows_oman"
   ]
  },
  {
   "cell_type": "code",
   "execution_count": null,
   "id": "7480aba4",
   "metadata": {},
   "outputs": [],
   "source": []
  }
 ],
 "metadata": {
  "kernelspec": {
   "display_name": "Python 3 (ipykernel)",
   "language": "python",
   "name": "python3"
  },
  "language_info": {
   "codemirror_mode": {
    "name": "ipython",
    "version": 3
   },
   "file_extension": ".py",
   "mimetype": "text/x-python",
   "name": "python",
   "nbconvert_exporter": "python",
   "pygments_lexer": "ipython3",
   "version": "3.9.13"
  }
 },
 "nbformat": 4,
 "nbformat_minor": 5
}
